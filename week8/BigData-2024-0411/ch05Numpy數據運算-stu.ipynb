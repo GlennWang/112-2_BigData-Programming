{
 "cells": [
  {
   "cell_type": "code",
   "execution_count": null,
   "metadata": {},
   "outputs": [],
   "source": [
    "'''\n",
    "helper functions:\n",
    "'''\n",
    "def show(cmdstr):\n",
    "    print(cmdstr, '=', eval(cmdstr))\n",
    "    \n",
    "def newline(row=1):\n",
    "    print('\\n' * (row-1))\n",
    "    \n",
    "def markline(length=15, mark='-'):\n",
    "    print(f\"\\n{mark * length}\")    \n",
    "    \n",
    "def show_numpy(na):\n",
    "    row, col = na.shape\n",
    "    for r in range(row):\n",
    "        print(r, na[r, :])"
   ]
  },
  {
   "cell_type": "markdown",
   "metadata": {
    "id": "ZqmqY68GnYOq"
   },
   "source": [
    "# Numpy"
   ]
  },
  {
   "cell_type": "markdown",
   "metadata": {
    "id": "BbgneFZPnaE_"
   },
   "source": [
    "## 建立基本陣列"
   ]
  },
  {
   "cell_type": "code",
   "execution_count": null,
   "metadata": {
    "colab": {
     "base_uri": "https://localhost:8080/"
    },
    "id": "lcmD3fm170cF",
    "outputId": "c8cefef9-a6c5-47e9-b64e-b3a37a1f6fc3"
   },
   "outputs": [],
   "source": [
    "import numpy as np\n",
    "\n",
    "np1 = np.array([1,2,3,4])  #使用 list\n",
    "np2 = np.array((5,6,7,8))  #使用 tuple\n",
    "\n",
    "show('np1')\n",
    "show('np2')\n",
    "\n",
    "print(type(np1), type(np2))"
   ]
  },
  {
   "cell_type": "code",
   "execution_count": null,
   "metadata": {
    "colab": {
     "base_uri": "https://localhost:8080/"
    },
    "id": "pgV8eShaCFUT",
    "outputId": "e97a6bce-07ba-4125-e282-d6c3f51e0884"
   },
   "outputs": [],
   "source": [
    "import numpy as np\n",
    "\n",
    "na = np.arange(0, 31, 2)\n",
    "print(na)"
   ]
  },
  {
   "cell_type": "code",
   "execution_count": null,
   "metadata": {
    "colab": {
     "base_uri": "https://localhost:8080/"
    },
    "id": "c3EaENHHE-68",
    "outputId": "8ef1324e-384c-41cb-a44a-093a3802ffa1"
   },
   "outputs": [],
   "source": [
    "import numpy as np\n",
    "\n",
    "na = np.linspace(1, 15, 3)  # left_end, right_end, no\n",
    "print(na)"
   ]
  },
  {
   "cell_type": "code",
   "execution_count": null,
   "metadata": {
    "colab": {
     "base_uri": "https://localhost:8080/"
    },
    "id": "NEVHcKT8FGdi",
    "outputId": "e194d057-cbec-4e18-98ae-b78c7273ca9b"
   },
   "outputs": [],
   "source": [
    "import numpy as np\n",
    "\n",
    "a = np.zeros((5,))  # parameter of type in tuple\n",
    "# a = np.zeros((1,5))  # parameter of type in tuple\n",
    "print(a.shape, a)"
   ]
  },
  {
   "cell_type": "code",
   "execution_count": null,
   "metadata": {
    "colab": {
     "base_uri": "https://localhost:8080/"
    },
    "id": "gvFXvSp9FL-r",
    "outputId": "1621a979-1cbf-486b-d411-3eddfa7e8bbe"
   },
   "outputs": [],
   "source": [
    "import numpy as np\n",
    "\n",
    "b = np.ones((5, 2))\n",
    "print(b)"
   ]
  },
  {
   "cell_type": "markdown",
   "metadata": {
    "id": "H_vU-jtPnqlA"
   },
   "source": [
    "## 建立多維陣列"
   ]
  },
  {
   "cell_type": "code",
   "execution_count": null,
   "metadata": {
    "colab": {
     "base_uri": "https://localhost:8080/"
    },
    "id": "LcqPM5GSFm6s",
    "outputId": "d60097dd-6253-417b-a0b2-b1f631522653"
   },
   "outputs": [],
   "source": [
    "import numpy as np\n",
    "\n",
    "listdata = [[1,2,3,4,5],\n",
    "            [6,7,8,9,10]]   # 必須具備矩形的形式。\n",
    "\n",
    "na = np.array(listdata)\n",
    "show('na')\n",
    "\n",
    "print('維度', na.ndim)\n",
    "print('形狀', na.shape)\n",
    "print('數量', na.size)"
   ]
  },
  {
   "cell_type": "markdown",
   "metadata": {
    "id": "rV26mTHYnxvR"
   },
   "source": [
    "## <font color='red'>改變陣列形狀：reshape()</font>"
   ]
  },
  {
   "cell_type": "code",
   "execution_count": null,
   "metadata": {
    "colab": {
     "base_uri": "https://localhost:8080/"
    },
    "id": "vBsTMuLoF8QC",
    "outputId": "c444a4dd-9a80-4b8e-ed49-13452485af10"
   },
   "outputs": [],
   "source": [
    "import numpy as np\n",
    "\n",
    "adata = np.arange(1,17)  # (start, cut)\n",
    "show('adata.shape')\n",
    "show('adata')\n",
    "\n",
    "bdata = adata.reshape(4,4)\n",
    "print(\"after bdata = adata.reshape(4,4)\")\n",
    "show('bdata')"
   ]
  },
  {
   "cell_type": "markdown",
   "metadata": {
    "id": "RLnj8rOjn2pf"
   },
   "source": [
    "## 一維陣列取值"
   ]
  },
  {
   "cell_type": "code",
   "execution_count": null,
   "metadata": {
    "colab": {
     "base_uri": "https://localhost:8080/"
    },
    "id": "UP54x5eCHTiU",
    "outputId": "3d1336a2-31b8-404a-ede8-928375cfc838"
   },
   "outputs": [],
   "source": [
    "import numpy as np\n",
    "\n",
    "na = np.arange(0, 6)  # (start, cut), 使用 range 來定義 array。\n",
    "\n",
    "print(na)\n",
    "print(na[0])\n",
    "print(na[5])\n",
    "print(na[1:5])\n",
    "print(na[1:5:2])\n",
    "print(na[5:1:-1])\n",
    "print(na[:])\n",
    "print(na[:3])\n",
    "print(na[3:])\n",
    "newline()\n",
    "\n",
    "show('na')\n",
    "show('na[0]')\n",
    "show('na[5]')\n",
    "show('na[1:5]')\n",
    "show('na[1:5:2]')\n",
    "show('na[5:1:-1]')\n",
    "show('na[:]')\n",
    "show('na[:3]')\n",
    "show('na[3:]')"
   ]
  },
  {
   "cell_type": "code",
   "execution_count": null,
   "metadata": {
    "colab": {
     "base_uri": "https://localhost:8080/"
    },
    "id": "UP54x5eCHTiU",
    "outputId": "3d1336a2-31b8-404a-ede8-928375cfc838"
   },
   "outputs": [],
   "source": [
    "import numpy as np\n",
    "\n",
    "na = np.arange(0, 16)  # (start, cut), 使用 range 來定義 array。\n",
    "\n",
    "# show the result dynamically\n",
    "L = len(na) - 1\n",
    "\n",
    "show('na')\n",
    "show('na[0]')\n",
    "show('na[L]')\n",
    "show('na[1:L]')\n",
    "show('na[1:L:2]')\n",
    "show('na[L:1:-1]')\n",
    "show('na[:]')\n",
    "show('na[:3]')\n",
    "show('na[3:]')"
   ]
  },
  {
   "cell_type": "markdown",
   "metadata": {
    "id": "_qmcE7lboBTf"
   },
   "source": [
    "## 多維陣列取值"
   ]
  },
  {
   "cell_type": "code",
   "execution_count": null,
   "metadata": {
    "colab": {
     "base_uri": "https://localhost:8080/"
    },
    "id": "8AiLWZQDMmth",
    "outputId": "91f9d61b-1c28-4d3a-face-e8ed9eef2387"
   },
   "outputs": [],
   "source": [
    "import numpy as np\n",
    "\n",
    "na = np.arange(1, 17).reshape(4, 4)\n",
    "na"
   ]
  },
  {
   "cell_type": "code",
   "execution_count": null,
   "metadata": {
    "colab": {
     "base_uri": "https://localhost:8080/"
    },
    "id": "ytMjWi4aS2lI",
    "outputId": "d5b8c572-dd30-4a65-9043-1af3ebaddf3e"
   },
   "outputs": [],
   "source": [
    "na[2, 3]"
   ]
  },
  {
   "cell_type": "code",
   "execution_count": null,
   "metadata": {
    "colab": {
     "base_uri": "https://localhost:8080/"
    },
    "id": "vCOFAr0JNF04",
    "outputId": "94a46df7-0e2a-485e-c90d-966b57f04645"
   },
   "outputs": [],
   "source": [
    "'''\n",
    "對於多維的內容，可以多個索引來參考取值，也可以彈性地以指定列或行的方式，來整批存取！\n",
    "'''\n",
    "print(na)\n",
    "\n",
    "print(na[1, 1:3])\t\t\t#[6,7] <-- row 1, col 1:3\n",
    "print(na[1:3, 2])\t\t\t#[7,11] <-- row 1:3, col 2\n",
    "print(na[1:3, 1:3])\t\t#[[6,7],[7,11]] <-- row 1:3, col 2\n",
    "print(na[::2, ::2])\t\t#[[1,3],[9,11]] <-- row 1:3, col 2\n",
    "print(na[:, 2])\t\t\t\t#[3,7,11,15] <-- row whole, col 2\n",
    "print(na[1, :])\t\t\t\t#[5,6,7,8] <-- row 1, col whole\n",
    "print(na[:, :])\t\t\t\t#矩陣全部 <-- whole array\n",
    "markline()\n",
    "\n",
    "print(\"na:\")\n",
    "show_numpy(na)\n",
    "newline()\n",
    "show('na[1, 1:3]')\n",
    "show('na[1:3, 2]')\n",
    "show('na[1:3, 1:3]')\n",
    "show('na[::2, ::2]')\n",
    "show('na[:, 2]')\n",
    "show('na[1, :]')\n",
    "show('na[:, :]')"
   ]
  },
  {
   "cell_type": "markdown",
   "metadata": {
    "id": "FWTU4QqEoJx_"
   },
   "source": [
    "## 產生隨機資料:np.ramdom()"
   ]
  },
  {
   "cell_type": "code",
   "execution_count": null,
   "metadata": {
    "colab": {
     "base_uri": "https://localhost:8080/"
    },
    "id": "qHZH8mLZOCd4",
    "outputId": "5e3e8355-1a35-4598-89cc-37d948cc589a"
   },
   "outputs": [],
   "source": [
    "import numpy as np\n",
    "\n",
    "print('1. np.random.rand(2,3): 產生2x3 0~1之間的隨機浮點數\\n',\n",
    "      np.random.rand(2,3))  # (row, col)\n",
    "print()\n",
    "print('2. np.random.randn(2,3): 產生2x3常態分佈的隨機浮點數\\n',\n",
    "      np.random.randn(2,3))  # (row, col)\n",
    "print()\n",
    "print('3. np.random.randint(5): 產生0~4(不含5)隨機整數\\n',\n",
    "      np.random.randint(5))  # a random value belongs [0, 4]\n",
    "print()\n",
    "print('4. np.random.randint(2,5,[50]): 產生2~4(不含5)5個隨機整數\\n',\n",
    "      np.random.randint(2,5,[50]))  # (start, cut, )\n",
    "print()\n",
    "print('5. 產生3個 0~1之間的隨機浮點數\\n',\n",
    "      np.random.random(3),'\\n',\n",
    "      np.random.random_sample(3),'\\n',\n",
    "      np.random.sample(3))\n",
    "\n",
    "# help(np.random.randint)"
   ]
  },
  {
   "cell_type": "markdown",
   "metadata": {
    "id": "CRbIb1T0oO-D"
   },
   "source": [
    "## Numpy讀取CSV 檔案"
   ]
  },
  {
   "cell_type": "code",
   "execution_count": null,
   "metadata": {
    "colab": {
     "base_uri": "https://localhost:8080/"
    },
    "id": "gIjbQ5htPFN7",
    "outputId": "430d107b-77a5-42e0-a434-cff7120abc6a"
   },
   "outputs": [],
   "source": [
    "import numpy as np\n",
    "\n",
    "# 只能讀取數字形式的字串，並將其轉換成數字。\n",
    "na = np.genfromtxt('scores.csv', delimiter=',', skip_header=1)\n",
    "print(na.shape)\n",
    "show('na')\n",
    "show('na[:, 0]')"
   ]
  },
  {
   "cell_type": "markdown",
   "metadata": {
    "id": "ZI64oNPqoUJT"
   },
   "source": [
    "## Numpy陣列運算\n",
    "\n",
    "基本運算都是元素對元素(所以兩者的 shape 要一樣！)，或是對整個陣列。"
   ]
  },
  {
   "cell_type": "code",
   "execution_count": null,
   "metadata": {
    "colab": {
     "base_uri": "https://localhost:8080/"
    },
    "id": "Tam4N7q5Q81z",
    "outputId": "62702d9c-8f76-446f-e77c-06a777c58d9d"
   },
   "outputs": [],
   "source": [
    "import numpy as np\n",
    "\n",
    "a = np.arange(1,10).reshape(3,3)\n",
    "b = np.arange(10,19).reshape(3,3)\n",
    "\n",
    "print('a 陣列內容：\\n', a)\n",
    "print()\n",
    "print('b 陣列內容：\\n', b)"
   ]
  },
  {
   "cell_type": "code",
   "execution_count": null,
   "metadata": {
    "colab": {
     "base_uri": "https://localhost:8080/"
    },
    "id": "_bC1KUfKQ-va",
    "outputId": "1f805c60-aa66-4f70-ca4b-32261d8a4c0e"
   },
   "outputs": [],
   "source": [
    "print('a 陣列元素都加值：\\n', a + 1)"
   ]
  },
  {
   "cell_type": "code",
   "execution_count": null,
   "metadata": {
    "colab": {
     "base_uri": "https://localhost:8080/"
    },
    "id": "-ESpSr-jRc9k",
    "outputId": "3e5730b5-06f0-4686-e6fa-94da091c7930"
   },
   "outputs": [],
   "source": [
    "print('a 陣列元素都平方：\\n', a ** 2)"
   ]
  },
  {
   "cell_type": "code",
   "execution_count": null,
   "metadata": {
    "colab": {
     "base_uri": "https://localhost:8080/"
    },
    "id": "dhLUrC_IRibe",
    "outputId": "d298002b-44b7-4766-87c3-6ff9aef70caa"
   },
   "outputs": [],
   "source": [
    "print('a 陣列元素加判斷：\\n', a < 5)"
   ]
  },
  {
   "cell_type": "code",
   "execution_count": null,
   "metadata": {
    "colab": {
     "base_uri": "https://localhost:8080/"
    },
    "id": "k2I44sP9RtDL",
    "outputId": "f4ccfe2b-9ffd-4dda-c466-75f6872646a8"
   },
   "outputs": [],
   "source": [
    "print(a)\n",
    "print('a 陣列取出第一個 row 都加 1：\\n', a[0,:] + 1)\n",
    "print('a 陣列取出第一個 col 都加 1：\\n', a[:,0] + 1)"
   ]
  },
  {
   "cell_type": "code",
   "execution_count": null,
   "metadata": {
    "colab": {
     "base_uri": "https://localhost:8080/"
    },
    "id": "kG6qzPRQRwZ5",
    "outputId": "ad19d696-bc24-4180-9522-b64ad6f21590"
   },
   "outputs": [],
   "source": [
    "print('a 陣列內容：\\n', a)\n",
    "print('b 陣列內容：\\n', b)\n",
    "print()\n",
    "print('a b 陣列對應元素相加：\\n', a + b)\n",
    "print('a b 陣列對應元素相乘：\\n', a * b)"
   ]
  },
  {
   "cell_type": "code",
   "execution_count": null,
   "metadata": {
    "colab": {
     "base_uri": "https://localhost:8080/"
    },
    "id": "qA0NUwPnR32-",
    "outputId": "4ed031be-8b39-4ec6-f9c2-b9459365b6ac"
   },
   "outputs": [],
   "source": [
    "print('a 陣列內容：\\n', a)\n",
    "print()\n",
    "print('b 陣列內容：\\n', b)\n",
    "print()\n",
    "print('a b 陣列內積(矩陣相乘)計算：\\n', np.dot(a,b))"
   ]
  },
  {
   "cell_type": "code",
   "execution_count": null,
   "metadata": {},
   "outputs": [],
   "source": [
    "'''\n",
    "Q: 已知 lst = [k for k in range(1, 9)],\n",
    "請使用 numpy 的 reshape，寫出將 lst 合法重組後所有的可能列行組合，並將結果列印出來。\n",
    "\n",
    "Q: 請先生成下列 numpy 型態的 A, B 陣列(array)，\n",
    "A = [[1],\n",
    "     [2],\n",
    "     [3],\n",
    "     [4],\n",
    "     [5],\n",
    "     [6],\n",
    "     [7],\n",
    "     [8],\n",
    "     [9] ]\n",
    "B = [1 2 3 4 5 6 7 8 9]。\n",
    "\n",
    "接著請完成並顯示矩陣 A 與 B，做完矩陣相乘後的計算結果:\n",
    " 1  2  3  4  5  6  7  8  9 \n",
    " 2  4  6  8 10 12 14 16 18 \n",
    " 3  6  9 12 15 18 21 24 27 \n",
    " 4  8 12 16 20 24 28 32 36 \n",
    " 5 10 15 20 25 30 35 40 45 \n",
    " 6 12 18 24 30 36 42 48 54 \n",
    " 7 14 21 28 35 42 49 56 63 \n",
    " 8 16 24 32 40 48 56 64 72 \n",
    " 9 18 27 36 45 54 63 72 81 \n",
    "'''\n",
    "import numpy as np\n",
    "\n",
    "lst = [k for k in range(1, 9)]\n",
    "size = len(lst)\n",
    "\n",
    "ary = np.array(lst)\n",
    "for r in range(1, size + 1):\n",
    "    if size % r == 0:\n",
    "        print(f\"{r}x{size//r}:\")\n",
    "        print(ary.reshape(r, size//r))\n",
    "\n",
    "        \n",
    "markline()\n",
    "A = np.arange(1, 10).reshape(9, 1)\n",
    "B = np.arange(1, 10).reshape(1, 9)\n",
    "print(A)\n",
    "C = np.dot(A, B)\n",
    "\n",
    "show_numpy(C)\n",
    "newline()\n",
    "\n",
    "row, col = C.shape  # 取得列行的方法。\n",
    "for r in range(row):\n",
    "    for c in range(col):\n",
    "        print(f\"{C[r, c]:2}\", end=' ')\n",
    "    print()"
   ]
  },
  {
   "cell_type": "markdown",
   "metadata": {
    "id": "U6dL5dueocGR"
   },
   "source": [
    "## Numpy常用的計算及統計函式"
   ]
  },
  {
   "cell_type": "code",
   "execution_count": null,
   "metadata": {
    "colab": {
     "base_uri": "https://localhost:8080/"
    },
    "id": "LEsBIyloR8Wf",
    "outputId": "d4828466-1d37-4636-f44b-3c64931e1731"
   },
   "outputs": [],
   "source": [
    "import numpy as np\n",
    "\n",
    "a = np.arange(1,10).reshape(3,3)\n",
    "\n",
    "print('陣列的內容：\\n', a)\n",
    "print()\n",
    "\n",
    "print('1.最小值與最大值：\\nnp.min(a), np.max(a)\\n',\n",
    "      np.min(a), np.max(a))  # 整個 numpy 元件中的最小值。\n",
    "print()\n",
    "\n",
    "print('2.每一直行最小值與最大值：\\nnp.min(a, axis=0), np.max(a, axis=0)\\n',\n",
    "      np.min(a, axis=0), np.max(a, axis=0))  # axis: 表示延伸的方向 => 試著將最外層的方括號去掉。\n",
    "print()\n",
    "\n",
    "print('3.每一橫列最小值與最大值：\\nnp.min(a, axis=1), np.max(a, axis=1)\\n',\n",
    "      np.min(a, axis=1), np.max(a, axis=1))\n",
    "print()\n",
    "\n",
    "print('4.加總、乘積及平均值：\\nnp.sum(a), np.prod(a), np.mean(a)\\n',\n",
    "      np.sum(a), np.prod(a), np.mean(a))\n",
    "print()\n",
    "\n",
    "print('5.每一直行加總、乘積與平均值：\\nnp.sum(a, axis=0), np.prod(a, axis=0), np.mean(a, axis=0)\\n',\n",
    "      np.sum(a, axis=0), np.prod(a, axis=0), np.mean(a, axis=0))\n",
    "print()\n",
    "\n",
    "print('6.每一橫列加總、乘積與平均值：\\nnp.sum(a, axis=1), np.prod(a, axis=1), np.mean(a, axis=1)\\n',\n",
    "      np.sum(a, axis=1), np.prod(a, axis=1), np.mean(a, axis=1))"
   ]
  },
  {
   "cell_type": "code",
   "execution_count": null,
   "metadata": {
    "colab": {
     "base_uri": "https://localhost:8080/"
    },
    "id": "0F7KVTHrSByH",
    "outputId": "5b70e843-0bf2-41db-c5cd-2691515239c0"
   },
   "outputs": [],
   "source": [
    "import numpy as np\n",
    "\n",
    "a = np.random.randint(100, size=50)\n",
    "\n",
    "print('陣列的內容：', a)\n",
    "print('1.標準差：', np.std(a))\n",
    "print('2.變異數：', np.var(a))\n",
    "print('3.中位數：', np.median(a))\n",
    "print('4.百分比值：', np.percentile(a, 80))\n",
    "print('5.最大最小差值：', np.ptp(a))"
   ]
  },
  {
   "cell_type": "markdown",
   "metadata": {
    "id": "twmSqucSopPA"
   },
   "source": [
    "## Numpy的排序"
   ]
  },
  {
   "cell_type": "code",
   "execution_count": null,
   "metadata": {
    "colab": {
     "base_uri": "https://localhost:8080/"
    },
    "id": "NkgIe_8uTYoh",
    "outputId": "2bc357a1-03c9-4889-eb80-79f3affac22b"
   },
   "outputs": [],
   "source": [
    "import numpy as np\n",
    "\n",
    "a = np.random.choice(50, size=10, replace=False)\n",
    "\n",
    "print('排序前的陣列：', a)\n",
    "print('排序後的陣列：', np.sort(a))\n",
    "print()\n",
    "print('排序後的陣列 a：', a, ', same as the original')\n",
    "# index = np.argsort(a)\n",
    "# index = np.flip(index)\n",
    "# show('index')\n",
    "print('排序後的索引：', np.argsort(a))  # 回傳排序後的索引！\n",
    "print()\n",
    "\n",
    "#用索引到陣列取值\n",
    "for i in np.argsort(a):\n",
    "    print(a[i], end=',')\n",
    "    \n",
    "# help(np.random.choice)"
   ]
  },
  {
   "cell_type": "code",
   "execution_count": null,
   "metadata": {
    "colab": {
     "base_uri": "https://localhost:8080/"
    },
    "id": "gig1VsVyTwkA",
    "outputId": "56955348-0c51-4c31-9f3f-8d2cba0f7fe2"
   },
   "outputs": [],
   "source": [
    "import numpy as np\n",
    "\n",
    "a = np.random.randint(0, 10, (3,5))  # (start, cut, (row, col))  <-- 跟 random.randint(start, end) 不同！\n",
    "\n",
    "print('原陣列內容：')\n",
    "print(a, '\\n')\n",
    "\n",
    "print('將每一直行進行排序：')\n",
    "print(np.sort(a, axis=0))  # 會回傳計算的結果，但不影響原來 a 的內容。\n",
    "print('\\n', a, '\\n')\n",
    "\n",
    "print('將每一橫列進行排序：')\n",
    "print(np.sort(a, axis=1))"
   ]
  }
 ],
 "metadata": {
  "colab": {
   "collapsed_sections": [],
   "name": "ch05Numpy數據運算.ipynb",
   "provenance": []
  },
  "kernelspec": {
   "display_name": "Python 3 (ipykernel)",
   "language": "python",
   "name": "python3"
  },
  "language_info": {
   "codemirror_mode": {
    "name": "ipython",
    "version": 3
   },
   "file_extension": ".py",
   "mimetype": "text/x-python",
   "name": "python",
   "nbconvert_exporter": "python",
   "pygments_lexer": "ipython3",
   "version": "3.9.19"
  }
 },
 "nbformat": 4,
 "nbformat_minor": 1
}
