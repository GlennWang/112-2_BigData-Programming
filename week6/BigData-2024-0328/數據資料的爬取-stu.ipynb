{
 "cells": [
  {
   "cell_type": "markdown",
   "metadata": {
    "id": "67Pcatw7vY7W"
   },
   "source": [
    "# requests 模組：讀取網站檔案"
   ]
  },
  {
   "cell_type": "markdown",
   "metadata": {
    "id": "YCAtT6q1upoU"
   },
   "source": [
    "## 讀取網頁原始碼"
   ]
  },
  {
   "cell_type": "code",
   "execution_count": null,
   "metadata": {
    "colab": {
     "base_uri": "https://localhost:8080/"
    },
    "id": "6gkohlk7uYOe",
    "outputId": "e1fd5414-5907-445f-b6cb-6ecf98ca81db"
   },
   "outputs": [],
   "source": [
    "import requests\n",
    "url = 'http://www.ehappy.tw/demo.htm'\n",
    "html = requests.get(url)\n",
    "\n",
    "# 檢查HTTP回應碼是否為200(requests.code.ok)\n",
    "if html.status_code == requests.codes.ok:\n",
    "    print(html.text)"
   ]
  },
  {
   "cell_type": "code",
   "execution_count": null,
   "metadata": {
    "colab": {
     "base_uri": "https://localhost:8080/"
    },
    "id": "6gkohlk7uYOe",
    "outputId": "e1fd5414-5907-445f-b6cb-6ecf98ca81db"
   },
   "outputs": [],
   "source": [
    "'''\n",
    "大專院校名錄\n",
    "'''\n",
    "[0           1        2             3           4            5         6         7        8 ]\n",
    "['學年度', '代碼', '學校名稱', '公/私立', '縣市名稱', '地址', '電話', '網址', '體系別']\n",
    "['112', '0001', '國立政治大學', '公立', '[38]臺北市', '[116]臺北市文山區指南路二段64號', '(02)29393091', \n",
    " 'http://www.nccu.edu.tw', '[1]一般']\n",
    "'''\n",
    "'''\n",
    "import requests\n",
    "url = 'https://stats.moe.gov.tw/files/school/112/u1_new.csv'\n",
    "html = requests.get(url)\n",
    "\n",
    "# 檢查HTTP回應碼是否為200(requests.code.ok)\n",
    "if html.status_code == requests.codes.ok:\n",
    "#     print(html.text)\n",
    "    pass\n",
    "    \n",
    "# items = html.text.split()\n",
    "# for it in items:\n",
    "#     print(f\"({it})\")"
   ]
  },
  {
   "cell_type": "code",
   "execution_count": null,
   "metadata": {},
   "outputs": [],
   "source": [
    "'''\n",
    "文字圖形作業的顯示:\n",
    "'''\n",
    "import requests\n",
    "def string_length(msg):\n",
    "    count = 0\n",
    "    return count\n",
    "\n",
    "print(string_length(\"123abc\"))\n",
    "print(string_length(\"123中文測試abc\"))\n",
    "\n",
    "url = 'https://stats.moe.gov.tw/files/school/112/u1_new.csv'  # 大專院校名錄\n",
    "html = requests.get(url)\n",
    "\n",
    "# 檢查HTTP回應碼是否為200(requests.code.ok)\n",
    "if html.status_code == requests.codes.ok:\n",
    "#     print(html.text)\n",
    "    pass\n",
    "    \n",
    "schools = html.text.split()\n",
    "field_no = len(schools[0].split(','))\n",
    "\n",
    "schools = schools[1:]\n",
    "'''\n",
    "[0           1        2             3           4            5         6         7        8 ]\n",
    "['\"學年度\"', '\"代碼\"', '\"學校名稱\"', '\"公/私立\"', '\"縣市名稱\"', '\"地址\"', '\"電話\"', '\"網址\"', '\"體系別\"']\n",
    "['112', '0001', '國立政治大學', '公立', '[38]臺北市', '[116]臺北市文山區指南路二段64號', '(02)29393091', 'http://www.nccu.edu.tw', '[1]一般']\n",
    "''' \n",
    "school = []\n",
    "address = []\n",
    "                             "
   ]
  },
  {
   "cell_type": "code",
   "execution_count": null,
   "metadata": {},
   "outputs": [],
   "source": [
    "'''\n",
    "如果需要安裝的話:\n",
    "'''\n",
    "# !pip install -U beautifulsoup4\n",
    "# !pip install lxml"
   ]
  },
  {
   "cell_type": "markdown",
   "metadata": {
    "id": "EKm2uq_Kvwy8"
   },
   "source": [
    "## 加上 URL 參數"
   ]
  },
  {
   "cell_type": "code",
   "execution_count": null,
   "metadata": {
    "colab": {
     "base_uri": "https://localhost:8080/"
    },
    "id": "5xTaLcg7upWc",
    "outputId": "5da4a8f8-9abf-4b75-88f2-5f0c38f7b8d0"
   },
   "outputs": [],
   "source": [
    "\n",
    "import requests\n",
    "# 將查詢參數定義為字典資料加入GET請求中: using the form params=payload\n",
    "payload = {'key1': 'value1', 'key2': 'value2'}\n",
    "html = requests.get(\"http://httpbin.org/get\",\n",
    "                     params=payload)\n",
    "print(html.text)"
   ]
  },
  {
   "cell_type": "markdown",
   "metadata": {
    "id": "hSsOMyYPwINz"
   },
   "source": [
    "## 發送POST請求"
   ]
  },
  {
   "cell_type": "code",
   "execution_count": null,
   "metadata": {
    "colab": {
     "base_uri": "https://localhost:8080/"
    },
    "id": "UtVDOS60v1PE",
    "outputId": "60ea514f-b5aa-484f-eaa9-6fb9d46f7f35"
   },
   "outputs": [],
   "source": [
    "import requests\n",
    "# 將查詢參數加入 POST 請求中: using the form data=payload\n",
    "payload = {'key1': 'value1', 'key2': 'value2'}\n",
    "html = requests.post(\"http://httpbin.org/post\",\n",
    "                     data=payload)\n",
    "print(html.text)"
   ]
  },
  {
   "cell_type": "markdown",
   "metadata": {
    "id": "AJ3VO-8wwqu1"
   },
   "source": [
    "## 自訂HTTP Headers偽裝瀏覽器操作"
   ]
  },
  {
   "cell_type": "code",
   "execution_count": null,
   "metadata": {
    "colab": {
     "base_uri": "https://localhost:8080/"
    },
    "id": "PhKrkAlM5b46",
    "outputId": "97c11b3e-b93b-4e22-f25e-62034380ed68"
   },
   "outputs": [],
   "source": [
    "import requests\n",
    "url = 'https://irs.thsrc.com.tw/IMINT/'\n",
    "# 自訂表頭\n",
    "headers = {'user-agent': 'Mozilla/5.0 (Linux; Android 8.0.0; \\\n",
    "            SM-G960F Build/R16NW) AppleWebKit \\\n",
    "            /537.36 (KHTML, like Gecko) \\\n",
    "            Chrome/62.0.3202.84 Mobile Safari/537.36'\n",
    "}\n",
    "# 將自訂表頭加入 GET 請求中\n",
    "html = requests.get(url, headers=headers)\n",
    "print(html)"
   ]
  },
  {
   "cell_type": "markdown",
   "metadata": {
    "id": "FLxTAMM-3Hvx"
   },
   "source": [
    "## 在requests請求時加入Cookie\n"
   ]
  },
  {
   "cell_type": "code",
   "execution_count": null,
   "metadata": {
    "id": "azxM8E2Pwrat"
   },
   "outputs": [],
   "source": [
    "import requests\n",
    "url = 'https://www.ptt.cc/bbs/Gossiping/index.html'\n",
    "# 設定cookies的值\n",
    "cookies = {'over18':'1'}\n",
    "html = requests.get(url, cookies=cookies)  # with cookies\n",
    "print(html.text)"
   ]
  },
  {
   "cell_type": "markdown",
   "metadata": {
    "id": "4ByWJud04AFI"
   },
   "source": [
    "# BeautifulSoup 模組：網頁解析"
   ]
  },
  {
   "cell_type": "markdown",
   "metadata": {
    "id": "hu1y5Jz-yvAR"
   },
   "source": [
    "## 認識網頁的結構"
   ]
  },
  {
   "cell_type": "code",
   "execution_count": null,
   "metadata": {
    "colab": {
     "base_uri": "https://localhost:8080/"
    },
    "id": "6gkohlk7uYOe",
    "outputId": "e1fd5414-5907-445f-b6cb-6ecf98ca81db"
   },
   "outputs": [],
   "source": [
    "import requests\n",
    "# url = 'https://udn.com/news/index'\n",
    "# url = 'https://www.ntut.edu.tw/index.php'\n",
    "url = 'https://www.ntut.edu.tw/index.php'\n",
    "\n",
    "html = requests.get(url)\n",
    "html.encoding = 'utf-8'\n",
    "print(html.status_code)\n",
    "# 檢查HTTP回應碼是否為200(requests.code.ok)\n",
    "\n",
    "\n",
    "from bs4 import BeautifulSoup\n",
    "\n",
    "if html.status_code == requests.codes.ok:    \n",
    "    sp = BeautifulSoup(html.text, 'lxml')\n",
    "    imgs = sp.find_all('img')\n",
    "#     print(html.text)\n",
    "\n",
    "# for img in imgs: \n",
    "#     print(img)\n"
   ]
  },
  {
   "cell_type": "code",
   "execution_count": null,
   "metadata": {
    "id": "7B2RJfqLy3fS"
   },
   "outputs": [],
   "source": [
    "# bsdemo1.htm\n",
    "'''\n",
    "<!doctype html>\n",
    "<html>\n",
    "  <head>\n",
    "    <meta charset=\"UTF-8\">\n",
    "    <title>我是網頁標題</title>\n",
    "  </head>\n",
    "  <body>\n",
    "    <h1 class=\"large\">我是標題</h1>\n",
    "    <div>\n",
    "      <p>我是段落</p>\n",
    "      <img src=\"https://www.w3.org/html/logo/\n",
    "\t\t\tdownloads/HTML5_Logo_256.png\" alt=\"我是圖片\">\n",
    "      <a href=\"http://www.e-happy.com.tw\">我是超連結</a>\n",
    "    </div>\n",
    "      </body>\n",
    "</html>\n",
    "'''"
   ]
  },
  {
   "cell_type": "markdown",
   "metadata": {
    "id": "vmJUvs_14vLp"
   },
   "source": [
    "## BeautifulSoup 常用的屬性"
   ]
  },
  {
   "cell_type": "code",
   "execution_count": null,
   "metadata": {
    "colab": {
     "base_uri": "https://localhost:8080/"
    },
    "id": "NZTxcMOv4fCR",
    "outputId": "98f0c2cd-b5f9-4dcc-c580-c5e012eecead"
   },
   "outputs": [],
   "source": [
    "import requests\n",
    "from bs4 import BeautifulSoup\n",
    "url = 'http://ehappy.tw/bsdemo1.htm'\n",
    "html = requests.get(url)\n",
    "html.encoding = 'UTF-8'\n",
    "sp = BeautifulSoup(html.text, 'lxml')\n",
    "print(sp.title)\n",
    "print(sp.title.text)\n",
    "print(sp.h1)\n",
    "print(sp.p)\n",
    "\n",
    "dir(BeautifulSoup)"
   ]
  },
  {
   "cell_type": "markdown",
   "metadata": {
    "id": "dGNgc7Gm45sZ"
   },
   "source": [
    "## 找尋指定標籤的內容：find()、find_all()"
   ]
  },
  {
   "cell_type": "code",
   "execution_count": null,
   "metadata": {
    "id": "Ck1y81s05Jgx"
   },
   "outputs": [],
   "source": [
    "html = '''\n",
    "<html>\n",
    "  <head><meta charset=\"UTF-8\"><title>我是網頁標題</title></head>\n",
    "  <body>\n",
    "      <p id=\"p1\">我是段落一</p>\n",
    "      <p id=\"p2\" class='red'>我是段落二</p>\n",
    "  </body>\n",
    "</html>\n",
    "'''"
   ]
  },
  {
   "cell_type": "code",
   "execution_count": null,
   "metadata": {},
   "outputs": [],
   "source": []
  },
  {
   "cell_type": "code",
   "execution_count": null,
   "metadata": {
    "colab": {
     "base_uri": "https://localhost:8080/"
    },
    "id": "Q20bjJMqwrd1",
    "outputId": "816f4b7f-08b5-4cbb-c6f7-05b9631ece25"
   },
   "outputs": [],
   "source": [
    "from bs4 import BeautifulSoup\n",
    "sp = BeautifulSoup(html, 'lxml')\n",
    "print(sp.find('p'))\n",
    "print(sp.find_all('p'))\n",
    "print(sp.find('p', {'id':'p2', 'class':'red'}))\n",
    "print(sp.find('p', id='p2', class_= 'red'))"
   ]
  },
  {
   "cell_type": "markdown",
   "metadata": {
    "id": "YViNrNs855ni"
   },
   "source": [
    "## 利用CSS選擇器找尋內容：select()"
   ]
  },
  {
   "cell_type": "code",
   "execution_count": null,
   "metadata": {
    "colab": {
     "base_uri": "https://localhost:8080/"
    },
    "id": "UkwcWVC556PB",
    "outputId": "00875ccd-646d-4cee-c52f-c7e84968823a"
   },
   "outputs": [],
   "source": [
    "from bs4 import BeautifulSoup\n",
    "sp = BeautifulSoup(html, 'lxml')\n",
    "print(sp.select('title'))\n",
    "print(sp.select('p'))\n",
    "print(sp.select('#p1'))\n",
    "print(sp.select('.red'))"
   ]
  },
  {
   "cell_type": "markdown",
   "metadata": {
    "id": "ukfmGZfL66Ta"
   },
   "source": [
    "## *取得標籤的屬性內容*"
   ]
  },
  {
   "cell_type": "code",
   "execution_count": null,
   "metadata": {
    "id": "fZuuT3oh6-GC"
   },
   "outputs": [],
   "source": [
    "html = '''\n",
    "<html>\n",
    "  <head><meta charset=\"UTF-8\"><title>我是網頁標題</title></head>\n",
    "  <body>\n",
    "      <img src=\"http://www.ehappy.tw/python.png\">\n",
    "      <img src=\"http://www.ehappy.tw/python2.png\">\n",
    "      <a href=\"http://www.e-happy.com.tw\">超連結</a>\n",
    "  </body>\n",
    "</html>\n",
    "'''"
   ]
  },
  {
   "cell_type": "code",
   "execution_count": null,
   "metadata": {
    "colab": {
     "base_uri": "https://localhost:8080/"
    },
    "id": "vUxWes-a7Ymz",
    "outputId": "1f69e138-45f6-419a-89c0-1c63338b9281"
   },
   "outputs": [],
   "source": [
    "from bs4 import BeautifulSoup\n",
    "sp = BeautifulSoup(html, 'lxml')\n",
    "print(sp.select('img')[0].get('src'))\n",
    "print(sp.select('img'))\n",
    "print(sp.select('a')[0].get('href'))\n",
    "print(sp.select('img')[0]['src'])\n",
    "print(sp.select('a')[0]['href'])"
   ]
  },
  {
   "cell_type": "markdown",
   "metadata": {
    "id": "nON_r7sqCo4P"
   },
   "source": [
    "## 專題：威力彩開獎號碼"
   ]
  },
  {
   "cell_type": "code",
   "execution_count": null,
   "metadata": {
    "colab": {
     "base_uri": "https://localhost:8080/"
    },
    "id": "bcRuMI24j-4Z",
    "outputId": "baa4846f-8d20-4928-bfa7-f7ab7a5b955a"
   },
   "outputs": [],
   "source": [
    "import requests\n",
    "from bs4 import BeautifulSoup\n",
    "\n",
    "url = 'https://www.taiwanlottery.com.tw/'\n",
    "r = requests.get(url)\n",
    "sp = BeautifulSoup(r.text, 'lxml')\n",
    "# 找到威力彩的區塊\n",
    "datas = sp.find('div', class_='contents_box02')\n",
    "# 開獎期數\n",
    "title = datas.find('span', 'font_black15').text\n",
    "print('威力彩期數：', title)\n",
    "# 開獎號碼\n",
    "nums = datas.find_all('div', class_='ball_tx ball_green')\n",
    "# 開出順序\n",
    "print('開出順序：', end=' ')\n",
    "for i in range(0,6):\n",
    "    print(nums[i].text, end=' ')\n",
    "# 大小順序\n",
    "print('\\n大小順序：', end=' ')\n",
    "for i in range(6,12):\n",
    "    print(nums[i].text, end=' ')\n",
    "# 第二區\n",
    "num = datas.find('div', class_='ball_red').text\n",
    "print('\\n第二區：', num)"
   ]
  },
  {
   "cell_type": "markdown",
   "metadata": {
    "id": "1Bc7nC73n7z4"
   },
   "source": [
    "# 使用正規表達式"
   ]
  },
  {
   "cell_type": "markdown",
   "metadata": {
    "id": "X24-X2J-oIQG"
   },
   "source": [
    "## 建立正規表達式物件"
   ]
  },
  {
   "cell_type": "code",
   "execution_count": null,
   "metadata": {},
   "outputs": [],
   "source": [
    "'''\n",
    "讓 Python 將反斜線視為正常的內容，而不是控制字元: 在字串內容前加上英文字母 r。\n",
    "\"\\new\"  => 換行ew\n",
    "\"\\\\new\" => \\new\n",
    "r\"\\new\" => \\new\n",
    "'''\n",
    "print(\"\\new\")\n",
    "print(\"\\\\new\")\n",
    "print(r\"\\new\")\n"
   ]
  },
  {
   "cell_type": "code",
   "execution_count": null,
   "metadata": {
    "id": "spxxGh3DD234",
    "scrolled": true
   },
   "outputs": [],
   "source": [
    "import re\n",
    "m = re.search(r'[0-9]+','abc123xyz')"
   ]
  },
  {
   "cell_type": "markdown",
   "metadata": {
    "id": "X4Nf5WvNoelO"
   },
   "source": [
    "### match()方法"
   ]
  },
  {
   "cell_type": "code",
   "execution_count": null,
   "metadata": {
    "colab": {
     "base_uri": "https://localhost:8080/"
    },
    "id": "rkKSTwGloave",
    "outputId": "3c8c3659-130d-45a5-ff41-c156a6573df1"
   },
   "outputs": [],
   "source": [
    "import re\n",
    "m = re.match(r'[a-z]+','abc123xyz')\n",
    "print(m)"
   ]
  },
  {
   "cell_type": "code",
   "execution_count": null,
   "metadata": {
    "colab": {
     "base_uri": "https://localhost:8080/"
    },
    "id": "a6Y--kNWoy5e",
    "outputId": "ce895713-172c-4733-fdc1-b54c0ec409a4"
   },
   "outputs": [],
   "source": [
    "if m != None:\n",
    "    print(m.group())    #abc\n",
    "    print(m.start())    #0\n",
    "    print(m.end())      #3\n",
    "    print(m.span())     #(0, 3)"
   ]
  },
  {
   "cell_type": "markdown",
   "metadata": {
    "id": "MVTQyg-Co8x-"
   },
   "source": [
    "### search()方法"
   ]
  },
  {
   "cell_type": "code",
   "execution_count": null,
   "metadata": {
    "colab": {
     "base_uri": "https://localhost:8080/"
    },
    "id": "QruC_zPCozBu",
    "outputId": "a027020c-c1a1-4c31-9bc7-a15d9c8aefee"
   },
   "outputs": [],
   "source": [
    "import re\n",
    "m = re.search(r'[a-z]+', 'abc123xyz')\n",
    "print(m)    # <re.Match object; span=(0, 3), match='abc'>\n",
    "if m != None:\n",
    "    print(m.group())  # abc\n",
    "    print(m.start())  # 0\n",
    "    print(m.end())    # 3\n",
    "    print(m.span())   # (0,3)"
   ]
  },
  {
   "cell_type": "markdown",
   "metadata": {
    "id": "fZkls1-npiG_"
   },
   "source": [
    "### findall()方法"
   ]
  },
  {
   "cell_type": "code",
   "execution_count": null,
   "metadata": {
    "colab": {
     "base_uri": "https://localhost:8080/"
    },
    "id": "9Q0TxTxzpihX",
    "outputId": "2b9e5c77-01e5-4b84-d217-6a380d7a5362"
   },
   "outputs": [],
   "source": [
    "import re\n",
    "m = re.findall(r'[a-z]+', 'abc123xyz')\n",
    "print(m)    # ['abc', 'xyz'] "
   ]
  },
  {
   "cell_type": "markdown",
   "metadata": {
    "id": "kNCJ6WcPpp8o"
   },
   "source": [
    "## 使用正規表達式取代內容"
   ]
  },
  {
   "cell_type": "code",
   "execution_count": null,
   "metadata": {
    "colab": {
     "base_uri": "https://localhost:8080/"
    },
    "id": "wH7AxNS-pqOO",
    "outputId": "d71f0dcf-0663-4658-9339-d35a9dcdbab3"
   },
   "outputs": [],
   "source": [
    "import re\n",
    "result = re.sub(r\"\\d+\", \"*\", \"Password:1234,ID:5678\")\n",
    "print(result)\t\t# Password:*,ID:*"
   ]
  },
  {
   "cell_type": "code",
   "execution_count": null,
   "metadata": {
    "colab": {
     "base_uri": "https://localhost:8080/"
    },
    "id": "wH7AxNS-pqOO",
    "outputId": "d71f0dcf-0663-4658-9339-d35a9dcdbab3"
   },
   "outputs": [],
   "source": [
    "# Q: 請加碼將每一個數字都改成星號(*)。\n",
    "# Q: 請加碼將前五個號碼改成星號，其餘則維持原數字。"
   ]
  },
  {
   "cell_type": "code",
   "execution_count": null,
   "metadata": {},
   "outputs": [],
   "source": [
    "# Q: 請加碼將前五個號碼改成星號，其餘則維持原數字。\n",
    "\n",
    "'''\n",
    "請寫函式 \n",
    "mark_number(number, digit=4):\n",
    "    replace = f\"{'*' * digit}\\\\2\"\n",
    "    pattern = f\"(\\\\d{{{digit}}})(\\\\d{{len(number)-digiy=t}})\"\n",
    "    return re.sub(pattern, replace, number)\n",
    "    pass\n",
    "    \n",
    "可以將給定數字字串內容的前 digit 位，以星號取代。\n",
    "例如，number = \"1234567890\"，則\n",
    "mark_number(number)    => ****567890\n",
    "mark_number(number, 5) => *****67890\n",
    "'''\n",
    "def mark_number(number, digit=4):\n",
    "    replace = f\"{'*' * digit}\\\\2\"\n",
    "    \n",
    "    pattern = f\"(\\\\d{{{digit}}})(\\\\d{{{len(number)-digit}}})\"\n",
    "    print(replace, pattern)\n",
    "    return re.sub(pattern, replace, number)\n",
    "\n",
    "number = \"1234567890\"\n",
    "replace = f\"{'*' * 5}\\\\2\"\n",
    "print(replace)\n",
    "result = re.sub(\"(\\d{5})(\\d{3})\", replace, number)\n",
    "print(result)\n",
    "print(mark_number(number))\n",
    "print(mark_number(number, 5))\n"
   ]
  },
  {
   "cell_type": "markdown",
   "metadata": {
    "id": "jj-OLmkZp1UZ"
   },
   "source": [
    "html = \"\"\"\n",
    "<div class=\"content\">\n",
    "    E-Mail：<a href=\"mailto:mail@test.com.tw\">\n",
    "      mail</a><br>\n",
    "    E-Mail2：<a href=\"mailto:mail2@test.com.tw\">\n",
    "      mail2</a><br>\n",
    "    <ul class=\"price\">定價：360元 </ul>\n",
    "    <img src=\"http://test.com.tw/p1.jpg\">\n",
    "    <img src=\"http://test.com.tw/p2.png\">\n",
    "    電話：(04)-76543210、0937-123456\n",
    "</div>\n",
    "\"\"\""
   ]
  },
  {
   "cell_type": "code",
   "execution_count": null,
   "metadata": {
    "colab": {
     "base_uri": "https://localhost:8080/"
    },
    "id": "a-7fDNkIp9Xf",
    "outputId": "437be839-3a6d-4c4e-c204-e6f6f1e8b684"
   },
   "outputs": [],
   "source": [
    "import re\n",
    "pattern=r'[a-zA-Z0-9_.+-]+@[a-zA-Z0-9-]+\\.[a-zA-Z0-9-.]+'\n",
    "emails = re.findall(pattern,html)\n",
    "for email in emails: #顯示 email\n",
    "    print(email)\n",
    "\n",
    "price=re.findall(r'[\\d]+元',html)[0].split('元')[0] #價格\n",
    "print(price) #顯示定價金額\n",
    "\n",
    "imglist = re.findall(r'[http://]+[a-zA-Z0-9-/.]+\\.[jpgpng]+',html)\n",
    "for img in imglist: #\n",
    "    print(img) #顯示圖片網址\n",
    "    \n",
    "phonelist = re.findall(r'\\(?\\d{2,4}\\)?\\-\\d{6,8}',html)\n",
    "for phone in phonelist:\n",
    "    print(phone) #顯示電話號碼 "
   ]
  }
 ],
 "metadata": {
  "colab": {
   "collapsed_sections": [],
   "name": "數據資料的爬取.ipynb",
   "provenance": [],
   "toc_visible": true
  },
  "kernelspec": {
   "display_name": "Python 3 (ipykernel)",
   "language": "python",
   "name": "python3"
  },
  "language_info": {
   "codemirror_mode": {
    "name": "ipython",
    "version": 3
   },
   "file_extension": ".py",
   "mimetype": "text/x-python",
   "name": "python",
   "nbconvert_exporter": "python",
   "pygments_lexer": "ipython3",
   "version": "3.9.13"
  }
 },
 "nbformat": 4,
 "nbformat_minor": 1
}
