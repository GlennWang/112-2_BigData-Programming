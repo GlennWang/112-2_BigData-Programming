{
 "cells": [
  {
   "cell_type": "markdown",
   "metadata": {
    "id": "S-PozkN8SdLW"
   },
   "source": [
    "# Pandas Series的建立與取值"
   ]
  },
  {
   "cell_type": "markdown",
   "metadata": {
    "id": "AbFDj8PrSdPH"
   },
   "source": [
    "## 建立Series"
   ]
  },
  {
   "cell_type": "markdown",
   "metadata": {
    "id": "iz6ObkB4VqV-"
   },
   "source": [
    "### 使用串列建立Series物件"
   ]
  },
  {
   "cell_type": "code",
   "execution_count": null,
   "metadata": {
    "colab": {
     "base_uri": "https://localhost:8080/"
    },
    "id": "XQ_IBEzKRz9D",
    "outputId": "192a03a9-d177-4bd0-fc56-533b2fd55c77"
   },
   "outputs": [],
   "source": [
    "import pandas as pd\n",
    "\n",
    "se = pd.Series([1,2,3,4])\n",
    "print(se)           #顯示Series\n",
    "print(se.values)    #顯示值\n",
    "print(se.index)     #顯示索引"
   ]
  },
  {
   "cell_type": "markdown",
   "metadata": {
    "id": "dKOKL66IXzss"
   },
   "source": [
    "### 自訂索引"
   ]
  },
  {
   "cell_type": "code",
   "execution_count": null,
   "metadata": {
    "colab": {
     "base_uri": "https://localhost:8080/"
    },
    "id": "d68MSCgMWol9",
    "outputId": "5dc58eeb-3c64-414a-87ec-680fd041c379"
   },
   "outputs": [],
   "source": [
    "stocks = ['聯電', '台積電', '聯發科', '大力光', '鴻海']\n",
    "price = [42, 510, 694, 2115, 109]\n",
    "se2 = pd.Series(price, index=stocks)\n",
    "\n",
    "# print(se2['台積電'], se2[1])  # 自用、送禮兩相宜！\n",
    "\n",
    "se2"
   ]
  },
  {
   "cell_type": "markdown",
   "metadata": {
    "id": "p_UiitdMWS7O"
   },
   "source": [
    "### 使用字典建立Series"
   ]
  },
  {
   "cell_type": "code",
   "execution_count": null,
   "metadata": {
    "colab": {
     "base_uri": "https://localhost:8080/"
    },
    "id": "Yq2wJMqRWWPk",
    "outputId": "3e427c45-6adc-42a1-8a83-22c056ed6bc1"
   },
   "outputs": [],
   "source": [
    "import pandas as pd\n",
    "\n",
    "dict1 = {'Taipei': '台北', 'Taichung': '台中', 'Kaohsiung': '高雄'}\n",
    "se = pd.Series(dict1)\n",
    "\n",
    "print(se)           #顯示Series\n",
    "print(se.values)    #顯示值\n",
    "print(se.index)     #顯示索引\n",
    "\n",
    "# print(se[])  #  系統預設(系統送的)還可以用！"
   ]
  },
  {
   "cell_type": "markdown",
   "metadata": {
    "id": "gMwM76meWmxF"
   },
   "source": [
    "## Series資料取值"
   ]
  },
  {
   "cell_type": "markdown",
   "metadata": {
    "id": "NhlLAhuxf3ik"
   },
   "source": [
    "### 以索引取值"
   ]
  },
  {
   "cell_type": "code",
   "execution_count": null,
   "metadata": {
    "colab": {
     "base_uri": "https://localhost:8080/"
    },
    "id": "eQx4P-adfuDl",
    "outputId": "51f5cf8d-7b6a-496b-a8dc-0fdbfb5b6eee"
   },
   "outputs": [],
   "source": [
    "import pandas as pd\n",
    "\n",
    "se = pd.Series([1,2,3,4,5])\n",
    "se[2]"
   ]
  },
  {
   "cell_type": "markdown",
   "metadata": {
    "id": "0ms-Mi__f5iE"
   },
   "source": [
    "### 自訂索引及取值"
   ]
  },
  {
   "cell_type": "code",
   "execution_count": null,
   "metadata": {
    "colab": {
     "base_uri": "https://localhost:8080/"
    },
    "id": "08nmm134f5r0",
    "outputId": "b8c46cea-ebda-4b9a-ec66-28aaa571b2a7"
   },
   "outputs": [],
   "source": [
    "import pandas as pd\n",
    "\n",
    "se = pd.Series([1,2,3,4,5], index=['a','b','c','d','e'])\n",
    "se['b']\n",
    "# se[1]"
   ]
  },
  {
   "cell_type": "markdown",
   "metadata": {
    "id": "QEvtWh9lyDRe"
   },
   "source": [
    "# Pandas DataFrame 的建立"
   ]
  },
  {
   "cell_type": "markdown",
   "metadata": {
    "id": "CdC5SufcyG1n"
   },
   "source": [
    "## 建立DataFrame"
   ]
  },
  {
   "cell_type": "markdown",
   "metadata": {
    "id": "4-IYHgXyyzmG"
   },
   "source": [
    "### 新增DataFrame"
   ]
  },
  {
   "cell_type": "code",
   "execution_count": null,
   "metadata": {
    "colab": {
     "base_uri": "https://localhost:8080/",
     "height": 175
    },
    "id": "jw45UH1VyDcm",
    "outputId": "67bd2105-6232-4ca2-e5ec-882131ebbdb3"
   },
   "outputs": [],
   "source": [
    "import pandas as pd\n",
    "\n",
    "# pandas會保留二維的形式:\n",
    "df = pd.DataFrame([[65,92,78,83,70], \n",
    "                   [90,72,76,93,56], \n",
    "                   [81,85,91,89,77], \n",
    "                   [79,53,47,94,80]])\n",
    "df"
   ]
  },
  {
   "cell_type": "markdown",
   "metadata": {
    "id": "8zoq6is1zLZG"
   },
   "source": [
    "### 設定index與columns"
   ]
  },
  {
   "cell_type": "code",
   "execution_count": null,
   "metadata": {
    "colab": {
     "base_uri": "https://localhost:8080/",
     "height": 175
    },
    "id": "pPTONz8XzLgu",
    "outputId": "4e40f9fd-d497-4f77-d4d3-c20d9573cf48"
   },
   "outputs": [],
   "source": [
    "import pandas as pd\n",
    "\n",
    "df = pd.DataFrame([[65,92,78,83,70], \n",
    "                   [90,72,76,93,56], \n",
    "                   [81,85,91,89,77], \n",
    "                   [79,53,47,94,80]],\n",
    "                   index=['王小明','李小美','陳大同','林小玉'],\n",
    "                   columns=['國文','英文','數學','自然','社會'])\n",
    "df"
   ]
  },
  {
   "cell_type": "markdown",
   "metadata": {
    "id": "NPryO-5Jzn9O"
   },
   "source": [
    "## 利用字典建立DataFrame"
   ]
  },
  {
   "cell_type": "code",
   "execution_count": null,
   "metadata": {
    "colab": {
     "base_uri": "https://localhost:8080/",
     "height": 175
    },
    "id": "3OJe8I-TzoEG",
    "outputId": "a3a932a0-73a9-4ac3-f1d2-9e709cecb047"
   },
   "outputs": [],
   "source": [
    "import pandas as pd\n",
    "\n",
    "scores = {'國文':{'王小明':65,'李小美':90,'陳大同':81,'林小玉':79},\n",
    "          '英文':{'王小明':92,'李小美':72,'陳大同':85,'林小玉':53},\n",
    "          '數學':{'王小明':78,'李小美':76,'陳大同':91,'林小玉':47},\n",
    "          '自然':{'王小明':83,'李小美':93,'陳大同':89,'林小玉':94},\n",
    "          '社會':{'王小明':70,'李小美':56,'陳大同':77,'林小玉':80}}\n",
    "df = pd.DataFrame(scores)\n",
    "df"
   ]
  },
  {
   "cell_type": "markdown",
   "metadata": {
    "id": "Vk1hVzJT0H-2"
   },
   "source": [
    "## 利用Series建立DataFrame\n"
   ]
  },
  {
   "cell_type": "markdown",
   "metadata": {
    "id": "0Kc872Po1P8X"
   },
   "source": [
    "### 利用Series物件組合成字典"
   ]
  },
  {
   "cell_type": "code",
   "execution_count": null,
   "metadata": {
    "colab": {
     "base_uri": "https://localhost:8080/",
     "height": 175
    },
    "id": "GVfEn2w00ISu",
    "outputId": "783ca2d4-d63f-41fd-a53c-63d95cc662cf"
   },
   "outputs": [],
   "source": [
    "import pandas as pd\n",
    "\n",
    "se1 = pd.Series({'王小明':65,'李小美':90,'陳大同':81,'林小玉':79})\n",
    "se2 = pd.Series({'王小明':92,'李小美':72,'陳大同':85,'林小玉':53})\n",
    "se3 = pd.Series({'王小明':78,'李小美':76,'陳大同':91,'林小玉':47})\n",
    "se4 = pd.Series({'王小明':83,'李小美':93,'陳大同':89,'林小玉':94})\n",
    "se5 = pd.Series({'王小明':70,'李小美':56,'陳大同':77,'林小玉':80})\n",
    "print(se5)\n",
    "\n",
    "df = pd.DataFrame({'國文':se1,'英文':se2,'數學':se3,'自然':se4,\n",
    "\t\t\t\t   '社會':se5} )\n",
    "df"
   ]
  },
  {
   "cell_type": "markdown",
   "metadata": {
    "id": "O2tN-8TC0peH"
   },
   "source": [
    "### 使用concat函數合併Series物件"
   ]
  },
  {
   "cell_type": "code",
   "execution_count": null,
   "metadata": {
    "colab": {
     "base_uri": "https://localhost:8080/",
     "height": 175
    },
    "id": "EcO59rs10plO",
    "outputId": "0a2245c1-f689-4949-ccc4-c78f1e673f4b"
   },
   "outputs": [],
   "source": [
    "import pandas as pd\n",
    "\n",
    "se1 = pd.Series({'王小明':65,'李小美':90,'陳大同':81,'林小玉':79})\n",
    "se2 = pd.Series({'王小明':92,'李小美':72,'陳大同':85,'林小玉':53})\n",
    "se3 = pd.Series({'王小明':78,'李小美':76,'陳大同':91,'林小玉':47})\n",
    "se4 = pd.Series({'王小明':83,'李小美':93,'陳大同':89,'林小玉':94})\n",
    "se5 = pd.Series({'王小明':70,'李小美':56,'陳大同':77,'林小玉':80})\n",
    "\n",
    "df = pd.concat([se1,se2,se3,se4,se5], axis=1)  # axis=1 => 橫向的意思！\n",
    "print(se1)\n",
    "\n",
    "df.columns=['國文','英文','數學','自然','社會']\n",
    "df"
   ]
  },
  {
   "cell_type": "markdown",
   "metadata": {
    "id": "4RSAEmAn2JX-"
   },
   "source": [
    "# DataFrame資料取值"
   ]
  },
  {
   "cell_type": "markdown",
   "metadata": {
    "id": "2VzQ9dGGmpzv"
   },
   "source": [
    "## DataFrame基本取值"
   ]
  },
  {
   "cell_type": "code",
   "execution_count": null,
   "metadata": {
    "colab": {
     "base_uri": "https://localhost:8080/"
    },
    "id": "UXP_GNkq2K2X",
    "outputId": "19380a1c-d731-4f3b-b03e-b4fb19f51ac1"
   },
   "outputs": [],
   "source": [
    "# print(df)  # 較難看！\n",
    "\n",
    "df[\"自然\"]  # df[\"欄位名稱\"]，給一個欄位名稱(值)。\n",
    "\n",
    "# df"
   ]
  },
  {
   "cell_type": "code",
   "execution_count": null,
   "metadata": {
    "colab": {
     "base_uri": "https://localhost:8080/",
     "height": 175
    },
    "id": "LGqwgqxm58um",
    "outputId": "8930f9b4-b738-4706-b863-8018bf69e2ef"
   },
   "outputs": [],
   "source": [
    "df[[\"國文\", \"數學\", \"自然\"]]  # 想像只能給一個值，所以有多個欄位要顯示時，需要使用\"串列\"將他們括住。\n",
    "\n",
    "# df[[\"自然\", \"國文\", \"數學\"]]  # 也可以更改順序。\n"
   ]
  },
  {
   "cell_type": "code",
   "execution_count": null,
   "metadata": {
    "colab": {
     "base_uri": "https://localhost:8080/",
     "height": 112
    },
    "id": "J_D4IZwW6Hmm",
    "outputId": "719eb622-e07f-429f-b94e-c74a14790514"
   },
   "outputs": [],
   "source": [
    "df[df[\"國文\"] >= 80]  # 先算出條件測試的結果，再把測試為True的項列出來。"
   ]
  },
  {
   "cell_type": "code",
   "execution_count": null,
   "metadata": {
    "colab": {
     "base_uri": "https://localhost:8080/"
    },
    "id": "Sa66jgT767H9",
    "outputId": "5fc61144-5a16-491f-c6b7-846599c1d4aa"
   },
   "outputs": [],
   "source": [
    "df.values"
   ]
  },
  {
   "cell_type": "code",
   "execution_count": null,
   "metadata": {
    "colab": {
     "base_uri": "https://localhost:8080/"
    },
    "id": "oQhxBxYW7K7l",
    "outputId": "a5c335be-8127-4938-d21a-bea7902317ec"
   },
   "outputs": [],
   "source": [
    "df.values[1]  # 先列後行！"
   ]
  },
  {
   "cell_type": "code",
   "execution_count": null,
   "metadata": {
    "colab": {
     "base_uri": "https://localhost:8080/"
    },
    "id": "5Li1Bd557K-3",
    "outputId": "fd38ae16-4cc7-4857-88dc-4dd4f2065755"
   },
   "outputs": [],
   "source": [
    "df.values[1][2]  # 給列行的索引！\n",
    "\n",
    "# print(type(df.values))\n",
    "# Q: 請顯示 89 所在的索引。\n"
   ]
  },
  {
   "cell_type": "markdown",
   "metadata": {
    "id": "7ydr5oYjhwUo"
   },
   "source": [
    "## 以索引及欄位名稱取得資料：df.loc()"
   ]
  },
  {
   "cell_type": "code",
   "execution_count": null,
   "metadata": {
    "colab": {
     "base_uri": "https://localhost:8080/"
    },
    "id": "9JyYMnqphyz3",
    "outputId": "8bf1146f-84e6-46cc-b118-a8e17bfdca1a"
   },
   "outputs": [],
   "source": [
    "# 列行要同時給，可以寫在一起，也可以分開寫。\n",
    "df.loc[\"林小玉\", \"社會\"]  # 先索引，再欄位！ 或是 先列後行！\n",
    "\n",
    "# df.loc[\"林小玉\"][\"社會\"]  # 先索引，再欄位！ 或是 先列後行！\n",
    "\n",
    "# print(type(df.loc[\"林小玉\", \"社會\"]))\n",
    "# Q: 順序反過來可以嗎? df.loc[\"社會\", \"林小玉\"]\n"
   ]
  },
  {
   "cell_type": "code",
   "execution_count": null,
   "metadata": {
    "colab": {
     "base_uri": "https://localhost:8080/"
    },
    "id": "KArZlVeWh19f",
    "outputId": "158d3a79-00eb-4b13-b0f1-264e28e0d8ac"
   },
   "outputs": [],
   "source": [
    "df.loc[\"王小明\", [\"國文\",\"社會\"]]  # 一列多行！\n",
    "\n",
    "# print(type(df.loc[\"王小明\", [\"國文\",\"社會\"]]))"
   ]
  },
  {
   "cell_type": "code",
   "execution_count": null,
   "metadata": {
    "colab": {
     "base_uri": "https://localhost:8080/",
     "height": 112
    },
    "id": "H9EiCEH2h2An",
    "outputId": "c9246b8a-732a-49e5-de76-02aa0927e368"
   },
   "outputs": [],
   "source": [
    "df.loc[[\"王小明\", \"李小美\"], [\"數學\", \"自然\"]]  # 多列多行！"
   ]
  },
  {
   "cell_type": "code",
   "execution_count": null,
   "metadata": {
    "colab": {
     "base_uri": "https://localhost:8080/",
     "height": 143
    },
    "id": "b762xuAxh2Dv",
    "outputId": "1dfac7c7-6907-42a3-dd28-a60bbaa21fbd"
   },
   "outputs": [],
   "source": [
    "df.loc[\"王小明\":\"陳大同\", \"數學\":\"社會\"]  # 使用 索引 range 來表示範圍。"
   ]
  },
  {
   "cell_type": "code",
   "execution_count": null,
   "metadata": {
    "colab": {
     "base_uri": "https://localhost:8080/"
    },
    "id": "xGM4jBfyiAaf",
    "outputId": "f1c8643a-c023-40e8-896f-8690cffc35ea"
   },
   "outputs": [],
   "source": [
    "df.loc[\"陳大同\", :]"
   ]
  },
  {
   "cell_type": "code",
   "execution_count": null,
   "metadata": {
    "colab": {
     "base_uri": "https://localhost:8080/",
     "height": 112
    },
    "id": "zKQBCBd8iG8X",
    "outputId": "c29c41f4-5e35-48bd-fff4-05d394b35160"
   },
   "outputs": [],
   "source": [
    "df.loc[:\"李小美\", \"數學\":\"社會\"]"
   ]
  },
  {
   "cell_type": "code",
   "execution_count": null,
   "metadata": {
    "colab": {
     "base_uri": "https://localhost:8080/",
     "height": 143
    },
    "id": "rNivUyEViG_o",
    "outputId": "b62bda7b-e47b-4b71-a09a-2845018b6dd6"
   },
   "outputs": [],
   "source": [
    "df.loc[\"李小美\":, \"數學\":\"社會\"]"
   ]
  },
  {
   "cell_type": "markdown",
   "metadata": {
    "id": "QYVU_KAw9v8h"
   },
   "source": [
    "## 以索引及欄位編號取得資料：df.iloc()"
   ]
  },
  {
   "cell_type": "code",
   "execution_count": null,
   "metadata": {
    "colab": {
     "base_uri": "https://localhost:8080/"
    },
    "id": "PQU6Eyr7iAd_",
    "outputId": "5d2b6a03-4290-41b9-eac8-7e2442efe44e",
    "scrolled": true
   },
   "outputs": [],
   "source": [
    "df.iloc[3, 4]  # 列行要同時給！\n",
    "# df.iloc[3][4]  # 分開寫也可以！\n"
   ]
  },
  {
   "cell_type": "code",
   "execution_count": null,
   "metadata": {},
   "outputs": [],
   "source": [
    "df"
   ]
  },
  {
   "cell_type": "code",
   "execution_count": null,
   "metadata": {
    "colab": {
     "base_uri": "https://localhost:8080/"
    },
    "id": "ytOSoN2mm9df",
    "outputId": "038fcbc8-7870-4b22-8ea4-c8f19591ed4b"
   },
   "outputs": [],
   "source": [
    "df.iloc[0, [0, 4]]"
   ]
  },
  {
   "cell_type": "code",
   "execution_count": null,
   "metadata": {
    "colab": {
     "base_uri": "https://localhost:8080/",
     "height": 112
    },
    "id": "GebKm89Lm9g_",
    "outputId": "0129b1ba-3784-4004-a168-e7717367b4ae"
   },
   "outputs": [],
   "source": [
    "df.iloc[[0, 1], [2, 3]]"
   ]
  },
  {
   "cell_type": "code",
   "execution_count": null,
   "metadata": {
    "colab": {
     "base_uri": "https://localhost:8080/",
     "height": 143
    },
    "id": "lg6733fOm9kU",
    "outputId": "17a24705-4f17-4bfa-e7b5-12f66592e226"
   },
   "outputs": [],
   "source": [
    "df.iloc[0:3, 2:5]"
   ]
  },
  {
   "cell_type": "code",
   "execution_count": null,
   "metadata": {
    "colab": {
     "base_uri": "https://localhost:8080/"
    },
    "id": "pG-aaEAMm9_P",
    "outputId": "056e3256-589d-44f7-9224-5c49ca948bf6"
   },
   "outputs": [],
   "source": [
    "df.iloc[2, :]"
   ]
  },
  {
   "cell_type": "code",
   "execution_count": null,
   "metadata": {
    "colab": {
     "base_uri": "https://localhost:8080/",
     "height": 112
    },
    "id": "tZNGikjbnJH3",
    "outputId": "e937a63d-278a-4b59-b4f1-a656b7221360"
   },
   "outputs": [],
   "source": [
    "df.iloc[:2, 2:5]"
   ]
  },
  {
   "cell_type": "code",
   "execution_count": null,
   "metadata": {
    "colab": {
     "base_uri": "https://localhost:8080/",
     "height": 143
    },
    "id": "GiJW166PnJKv",
    "outputId": "2c77fc3a-2ac8-4ccd-d39f-b71e57820591"
   },
   "outputs": [],
   "source": [
    "df.iloc[1:, 2:5]"
   ]
  },
  {
   "cell_type": "markdown",
   "metadata": {
    "id": "mYBYPlmrnSK3"
   },
   "source": [
    "## 取得最前或最後幾列資料"
   ]
  },
  {
   "cell_type": "code",
   "execution_count": null,
   "metadata": {
    "colab": {
     "base_uri": "https://localhost:8080/",
     "height": 112
    },
    "id": "l3HNcRtEnTln",
    "outputId": "5028cc22-4271-44eb-be15-3fcac2894f0f"
   },
   "outputs": [],
   "source": [
    "df.head(2)  # defaultly, first 5 items"
   ]
  },
  {
   "cell_type": "code",
   "execution_count": null,
   "metadata": {
    "colab": {
     "base_uri": "https://localhost:8080/",
     "height": 112
    },
    "id": "Ryiup88CnTpe",
    "outputId": "8a844fd4-93d1-47d3-be32-dd53370e7e3b"
   },
   "outputs": [],
   "source": [
    "df.tail(2)  # defaultly, last 5 items"
   ]
  },
  {
   "cell_type": "markdown",
   "metadata": {
    "id": "omv7qBXyDisD"
   },
   "source": [
    "## DataFrame資料排序"
   ]
  },
  {
   "cell_type": "code",
   "execution_count": null,
   "metadata": {
    "colab": {
     "base_uri": "https://localhost:8080/",
     "height": 175
    },
    "id": "Doz74AlRnTs_",
    "outputId": "32c139a2-cdde-4eae-c14f-db554683edaf",
    "scrolled": true
   },
   "outputs": [],
   "source": [
    "df.sort_values(by=\"數學\", ascending=False)"
   ]
  },
  {
   "cell_type": "code",
   "execution_count": null,
   "metadata": {
    "colab": {
     "base_uri": "https://localhost:8080/",
     "height": 175
    },
    "id": "Doz74AlRnTs_",
    "outputId": "32c139a2-cdde-4eae-c14f-db554683edaf",
    "scrolled": true
   },
   "outputs": [],
   "source": [
    "dfcopy = df.copy()\n",
    "dfcopy.values[2][2] = 78\n",
    "\n",
    "dfcopy.sort_values(by=[\"數學\", \"英文\"], ascending=False)  # 只會針對第一項！"
   ]
  },
  {
   "cell_type": "code",
   "execution_count": null,
   "metadata": {},
   "outputs": [],
   "source": [
    "df"
   ]
  },
  {
   "cell_type": "code",
   "execution_count": null,
   "metadata": {
    "colab": {
     "base_uri": "https://localhost:8080/",
     "height": 175
    },
    "id": "-jKuFBR4DrUB",
    "outputId": "f462ffc4-727f-4585-f7fa-b9039d26f871"
   },
   "outputs": [],
   "source": [
    "df.sort_index(axis=0)"
   ]
  },
  {
   "cell_type": "markdown",
   "metadata": {
    "id": "dzx4f43e6BGd"
   },
   "source": [
    "## 複製原始資料"
   ]
  },
  {
   "cell_type": "code",
   "execution_count": null,
   "metadata": {
    "id": "2hPW3e7a6B7s"
   },
   "outputs": [],
   "source": [
    "dfcopy = df.copy()\n"
   ]
  },
  {
   "cell_type": "markdown",
   "metadata": {
    "id": "cXz7mg7lEM_B"
   },
   "source": [
    "## DataFrame資料修改"
   ]
  },
  {
   "cell_type": "code",
   "execution_count": null,
   "metadata": {
    "colab": {
     "base_uri": "https://localhost:8080/",
     "height": 175
    },
    "id": "u1ipXKm1DrXL",
    "outputId": "4294c623-f9ee-4206-9f3a-25d38491285c"
   },
   "outputs": [],
   "source": [
    "df.loc[\"王小明\"][\"數學\"] = 90\n",
    "df\n"
   ]
  },
  {
   "cell_type": "code",
   "execution_count": null,
   "metadata": {
    "colab": {
     "base_uri": "https://localhost:8080/",
     "height": 175
    },
    "id": "nEH7NREgEZoY",
    "outputId": "adcfeb4b-7203-4c79-c2d1-4ab48540d893"
   },
   "outputs": [],
   "source": [
    "df.loc[\"王小明\", :] = 80\n",
    "df\n"
   ]
  },
  {
   "cell_type": "markdown",
   "metadata": {
    "id": "eIy7wCC23V2c"
   },
   "source": [
    "## 還原 DataFrame 資料"
   ]
  },
  {
   "cell_type": "code",
   "execution_count": null,
   "metadata": {
    "colab": {
     "base_uri": "https://localhost:8080/",
     "height": 175
    },
    "id": "d-jVrRlB6cr0",
    "outputId": "e3aa3095-1d90-464e-a055-4f50b0c13007"
   },
   "outputs": [],
   "source": [
    "df = dfcopy\n",
    "df\n"
   ]
  },
  {
   "cell_type": "markdown",
   "metadata": {
    "id": "Vfhgpa60xatc"
   },
   "source": [
    "## 刪除 DataFrame 資料"
   ]
  },
  {
   "cell_type": "code",
   "execution_count": null,
   "metadata": {
    "colab": {
     "base_uri": "https://localhost:8080/",
     "height": 143
    },
    "id": "34-PW98Wxa4T",
    "outputId": "419b139b-6ca5-4e16-8619-562c5cb45289"
   },
   "outputs": [],
   "source": [
    "df.drop(\"王小明\")  # 會把整列消去！"
   ]
  },
  {
   "cell_type": "code",
   "execution_count": null,
   "metadata": {
    "colab": {
     "base_uri": "https://localhost:8080/",
     "height": 175
    },
    "id": "43Dyd3Daxa7m",
    "outputId": "4a2a9dae-bd0c-4ced-a258-49e66549a49f"
   },
   "outputs": [],
   "source": [
    "df.drop(\"數學\", axis=1)"
   ]
  },
  {
   "cell_type": "code",
   "execution_count": null,
   "metadata": {
    "colab": {
     "base_uri": "https://localhost:8080/",
     "height": 175
    },
    "id": "Bkyt5AFDxqF0",
    "outputId": "6ceabd4f-7d85-40f7-bf11-cd3c7e3ba810"
   },
   "outputs": [],
   "source": [
    "df.drop([\"數學\", \"自然\"], axis=1)"
   ]
  },
  {
   "cell_type": "code",
   "execution_count": null,
   "metadata": {
    "colab": {
     "base_uri": "https://localhost:8080/",
     "height": 81
    },
    "id": "xNam9lK1xqI4",
    "outputId": "da1a0e33-2d3e-44af-8a17-ee67df1ecaf3"
   },
   "outputs": [],
   "source": [
    "df.drop(df.index[1:4])"
   ]
  },
  {
   "cell_type": "code",
   "execution_count": null,
   "metadata": {
    "colab": {
     "base_uri": "https://localhost:8080/",
     "height": 175
    },
    "id": "juk0vl96xu67",
    "outputId": "23f008a7-712b-4154-f0e2-d4f0ab4609f2"
   },
   "outputs": [],
   "source": [
    "df.drop(df.columns[1:4], axis=1)"
   ]
  },
  {
   "cell_type": "markdown",
   "metadata": {
    "id": "2KapRhABuF-n"
   },
   "source": [
    "# Pandas 資料存取"
   ]
  },
  {
   "cell_type": "markdown",
   "metadata": {
    "id": "m1uMouj7uH05"
   },
   "source": [
    "## 讀取CSV檔案"
   ]
  },
  {
   "cell_type": "code",
   "execution_count": null,
   "metadata": {
    "colab": {
     "base_uri": "https://localhost:8080/",
     "height": 424
    },
    "id": "zBLpDunruH8I",
    "outputId": "f02b1313-c0be-44a7-e195-afd9b0348ac3"
   },
   "outputs": [],
   "source": [
    "import pandas as pd\n",
    "\n",
    "# df = pd.read_csv(\"covid19.csv\")\n",
    "\n",
    "df = pd.read_csv(\"https://stats.moe.gov.tw/files/detail/112/112_student.csv\")\n",
    "print(df.values[0])\n",
    "\n",
    "# df = pd.read_csv(\"covid19.csv\", thousands=\",\")  # 將貨幣的三位分隔逗點移除！\n",
    "df2 = df[\"30 臺北市\" == df['縣市名稱']]\n",
    "df2 = df2.groupby('學校名稱')\n",
    "print(df2)\n",
    "\n",
    "df2 = df2[['學年度', '學校名稱', '總計', '縣市名稱']]\n",
    "# df2 = df[['學年度', '學校名稱', '總計', '男生計', '女生計', '縣市名稱']]\n",
    "df2.head(10)\n",
    "result = df2.sort_values(by='總計', ascending=False)\n",
    "result.head(10)"
   ]
  },
  {
   "cell_type": "markdown",
   "metadata": {
    "id": "Ynlb4odZ6Qpn"
   },
   "source": [
    "## 讀取JSON檔案"
   ]
  },
  {
   "cell_type": "code",
   "execution_count": null,
   "metadata": {
    "colab": {
     "base_uri": "https://localhost:8080/",
     "height": 424
    },
    "id": "GFN8XZz-uINJ",
    "outputId": "654454c0-4033-4523-a195-610325640fe1",
    "scrolled": true
   },
   "outputs": [],
   "source": [
    "import pandas as pd\n",
    "\n",
    "df = pd.read_json('covid19.json')\n",
    "\n",
    "# df = pd.read_json('112_student.json', encoding='utf-8-sig')\n",
    "\n",
    "# for utf-8 with BOM, adding encoding='utf-8-sig'.\n",
    "# df = pd.read_json('https://stats.moe.gov.tw/files/detail/112/112_student.json', encoding='utf-8-sig')  # for BOM UTF-8\n",
    "\n",
    "# df['cases'] = df['cases'].str.replace(',', '').astype(int)  # 沒有 thousands 參數。\n",
    "\n",
    "df"
   ]
  },
  {
   "cell_type": "markdown",
   "metadata": {
    "id": "FZqd4S_6DJal"
   },
   "source": [
    "## 讀取Excel試算表檔案"
   ]
  },
  {
   "cell_type": "code",
   "execution_count": null,
   "metadata": {
    "colab": {
     "base_uri": "https://localhost:8080/",
     "height": 424
    },
    "id": "Yhgz5cbNDKe8",
    "outputId": "3062717e-dd1b-4629-a52c-4895cc5aa9b3"
   },
   "outputs": [],
   "source": [
    "import pandas as pd\n",
    "\n",
    "df = pd.read_excel('covid19.xlsx')\n",
    "df\n",
    "# help(pd.read_excel)"
   ]
  },
  {
   "cell_type": "markdown",
   "metadata": {
    "id": "riRZS_l3Fj-N"
   },
   "source": [
    "## 讀取html網頁檔案"
   ]
  },
  {
   "cell_type": "code",
   "execution_count": null,
   "metadata": {
    "colab": {
     "base_uri": "https://localhost:8080/",
     "height": 363
    },
    "id": "fOunxH2LFlis",
    "outputId": "62599aa3-d12e-479b-be71-e3845b17fafa"
   },
   "outputs": [],
   "source": [
    "import pandas as pd\n",
    "\n",
    "url = 'https://www.tiobe.com/tiobe-index/'\n",
    "tables = pd.read_html(url, keep_default_na=False)  # 會幫我們抓回所有的 table。\n",
    "\n",
    "tables[0].head(10)\n",
    "\n",
    "print(tables[0])\n",
    "print(type(tables[0]))\n",
    "print(tables[0].iloc[0])\n",
    "\n",
    "# for k in range(len(tables)):\n",
    "#     print( tables[k].head(10) )"
   ]
  },
  {
   "cell_type": "markdown",
   "metadata": {
    "id": "K196weyAKjr8"
   },
   "source": [
    "## 使用Pandas儲存資料"
   ]
  },
  {
   "cell_type": "code",
   "execution_count": null,
   "metadata": {
    "id": "0omwb0aARHPz"
   },
   "outputs": [],
   "source": [
    "import pandas as pd\n",
    "scores = {'國文':{'王小明':65,'李小美':90,'陳大同':81,'林小玉':79},\n",
    "          '英文':{'王小明':92,'李小美':72,'陳大同':85,'林小玉':53},\n",
    "          '數學':{'王小明':78,'李小美':76,'陳大同':91,'林小玉':47},\n",
    "          '自然':{'王小明':83,'李小美':93,'陳大同':89,'林小玉':94},\n",
    "          '社會':{'王小明':70,'李小美':56,'陳大同':77,'林小玉':80}}\n",
    "df = pd.DataFrame(scores)\n",
    "df.to_csv('scores2.csv')"
   ]
  },
  {
   "cell_type": "markdown",
   "metadata": {
    "id": "OQwZaWG3QzaS"
   },
   "source": [
    "# Pandas模組：繪圖應用"
   ]
  },
  {
   "cell_type": "markdown",
   "metadata": {
    "id": "DvCdABcJfKMy"
   },
   "source": [
    "## 在Colab設定Matplotlib的中文顯示"
   ]
  },
  {
   "cell_type": "code",
   "execution_count": null,
   "metadata": {
    "id": "DznJ4rh2ISRL",
    "scrolled": true
   },
   "outputs": [],
   "source": [
    "# 下載翰字鑄造-台北黑體\n",
    "!wget --content-disposition https://drive.google.com/uc?id=1eGAsTN1HBpJAkeVM57_C7ccp7hbgSz3_&export=download"
   ]
  },
  {
   "cell_type": "markdown",
   "metadata": {
    "id": "qxKv1lRDR4U8"
   },
   "source": [
    "## 繪製長條圖、橫條圖、堆疊圖\n"
   ]
  },
  {
   "cell_type": "code",
   "execution_count": null,
   "metadata": {
    "colab": {
     "base_uri": "https://localhost:8080/",
     "height": 994
    },
    "id": "ndV4oc6WQ2_b",
    "outputId": "0cc21c93-2eec-45a1-bf57-67878e18dbc1"
   },
   "outputs": [],
   "source": [
    "import pandas as pd\n",
    "import matplotlib\n",
    "import matplotlib.pyplot as plt\n",
    "from matplotlib.font_manager import fontManager\n",
    "\n",
    "'''\n",
    "# 加入中文字型設定：翰字鑄造-台北黑體\n",
    "fontManager.addfont('TaipeiSansTCBeta-Regular.ttf')\n",
    "matplotlib.rc('font', family='Taipei Sans TC Beta')\n",
    "#'''\n",
    "\n",
    "#'''\n",
    "plt.rcParams[\"font.sans-serif\"] = \"DFKai-SB\"  #[\"Microsoft JhengHei\"]  # 微軟正黑體\n",
    "plt.rcParams[\"axes.unicode_minus\"] = False\n",
    "#'''\n",
    "\n",
    "df = pd.DataFrame([[250,320,300,312,280],\n",
    "\t\t\t\t\t[280,300,280,290,310],\n",
    "\t\t\t\t\t[220,280,250,305,250]], \n",
    "\t\t\t\t\tindex=['北部','中部','南部'], \n",
    "\t\t\t\t\tcolumns=[2015,2016,2017,2018,2019])\n",
    "\n",
    "g1 = df.plot(kind='bar', title='長條圖', figsize=[10,5])\n",
    "g2 = df.plot(kind='barh', title='橫條圖', figsize=[10,5])\n",
    "g3 = df.plot(kind='bar', stacked=True, title='堆疊圖', figsize=[10,5])"
   ]
  },
  {
   "cell_type": "markdown",
   "metadata": {
    "id": "GXe_UHn1R7pc"
   },
   "source": [
    "## 繪製折線圖"
   ]
  },
  {
   "cell_type": "code",
   "execution_count": null,
   "metadata": {
    "colab": {
     "base_uri": "https://localhost:8080/",
     "height": 336
    },
    "id": "9aNqpyz1R7x7",
    "outputId": "66b05983-5e54-410d-e5e2-b31cdac4fd8a"
   },
   "outputs": [],
   "source": [
    "import pandas as pd\n",
    "import matplotlib\n",
    "from matplotlib.font_manager import fontManager\n",
    "\n",
    "'''\n",
    "# 加入中文字型設定：翰字鑄造-台北黑體\n",
    "fontManager.addfont('TaipeiSansTCBeta-Regular.ttf')\n",
    "matplotlib.rc('font', family='Taipei Sans TC Beta')\n",
    "#'''\n",
    "\n",
    "#'''\n",
    "plt.rcParams[\"font.sans-serif\"] = \"DFKai-SB\"  #[\"Microsoft JhengHei\"]  # 微軟正黑體\n",
    "plt.rcParams[\"axes.unicode_minus\"] = False\n",
    "#'''\n",
    "\n",
    "df = pd.DataFrame([[250,320,300,312,280],\n",
    "                    [280,300,280,290,310],\n",
    "                    [220,280,250,305,250]], \n",
    "                    index=['北部','中部','南部'], \n",
    "                    columns=[2015,2016,2017,2018,2019])\n",
    "\n",
    "g1 = df.iloc[0].plot(kind='line', legend=True, \n",
    "\t\t\t\t\t xticks=range(2015,2020), \n",
    "\t\t\t\t\t title='公司分區年度銷售表', \n",
    "\t\t\t\t\t figsize=[10,5])\n",
    "g1 = df.iloc[1].plot(kind='line', \n",
    "\t\t\t\t\t legend=True,\n",
    "\t\t\t\t\t xticks=range(2015,2020))\n",
    "g1 = df.iloc[2].plot(kind='line',\n",
    "\t\t\t\t\t legend=True,\n",
    "\t\t\t\t\t xticks=range(2015,2019))"
   ]
  },
  {
   "cell_type": "markdown",
   "metadata": {
    "id": "TzJjbGbHSX7C"
   },
   "source": [
    "## 繪製圓餅圖"
   ]
  },
  {
   "cell_type": "code",
   "execution_count": null,
   "metadata": {
    "colab": {
     "base_uri": "https://localhost:8080/",
     "height": 280
    },
    "id": "ggBX-t1qSXqD",
    "outputId": "de463285-4692-4f04-823d-80f7f33380ed"
   },
   "outputs": [],
   "source": [
    "import pandas as pd\n",
    "import matplotlib\n",
    "from matplotlib.font_manager import fontManager\n",
    "\n",
    "'''\n",
    "# 加入中文字型設定：翰字鑄造-台北黑體\n",
    "fontManager.addfont('TaipeiSansTCBeta-Regular.ttf')\n",
    "matplotlib.rc('font', family='Taipei Sans TC Beta')\n",
    "#'''\n",
    "\n",
    "#'''\n",
    "plt.rcParams[\"font.sans-serif\"] = \"DFKai-SB\"  #[\"Microsoft JhengHei\"]  # 微軟正黑體\n",
    "plt.rcParams[\"axes.unicode_minus\"] = False\n",
    "#'''\n",
    "\n",
    "df = pd.DataFrame([[250,320,300,312,280],\n",
    "                   [280,300,280,290,310],\n",
    "                   [220,280,250,305,250]],\n",
    "                  index=['北部','中部','南部'],\n",
    "                  columns=[2015,2016,2017,2018,2019])\n",
    "\n",
    "df.plot(kind='pie', subplots=True, figsize=[20,20])"
   ]
  },
  {
   "cell_type": "markdown",
   "metadata": {
    "id": "9ByyDDEWlJWp"
   },
   "source": [
    "# Pandas資料清洗"
   ]
  },
  {
   "cell_type": "markdown",
   "metadata": {
    "id": "hqqxbYErlLly"
   },
   "source": [
    "## 查詢空值：isnull()\n"
   ]
  },
  {
   "cell_type": "code",
   "execution_count": null,
   "metadata": {
    "colab": {
     "base_uri": "https://localhost:8080/"
    },
    "id": "nJnji-mnlLyK",
    "outputId": "1b6c116c-8af3-4925-f44a-e7f4377a3840"
   },
   "outputs": [],
   "source": [
    "import pandas as pd\n",
    "# 讀取資料\n",
    "df = pd.read_csv('customer.csv')\n",
    "# 空值的處理\n",
    "print('各個欄位有空值的狀況:')\n",
    "print(df.isnull().sum())\n",
    "print('有空值的記錄筆數:', df.isnull().any(axis=1).sum())\n",
    "print('有空值的欄位數:', df.isnull().any(axis=0).sum())\n",
    "print('age欄有空值的記錄:')\n",
    "print(df[df['age'].isnull()])"
   ]
  },
  {
   "cell_type": "markdown",
   "metadata": {
    "id": "RM5zqK2ElZBD"
   },
   "source": [
    "## 空欄填值：fillna()"
   ]
  },
  {
   "cell_type": "markdown",
   "metadata": {
    "id": "Q0WZ2347miTa"
   },
   "source": [
    "### 填入0"
   ]
  },
  {
   "cell_type": "code",
   "execution_count": null,
   "metadata": {
    "colab": {
     "base_uri": "https://localhost:8080/",
     "height": 206
    },
    "id": "XMA8ZgXUlL2x",
    "outputId": "6edd8e48-3ed2-4885-c969-dcc75ecaa818"
   },
   "outputs": [],
   "source": [
    "# 將age的空值填入0\n",
    "df_sample = df.copy()\n",
    "df_sample['age'] = df_sample['age'].fillna(value=0)\n",
    "df_sample.head()"
   ]
  },
  {
   "cell_type": "markdown",
   "metadata": {
    "id": "N8Jw6aqvleFR"
   },
   "source": [
    "### 填入平均值"
   ]
  },
  {
   "cell_type": "code",
   "execution_count": null,
   "metadata": {
    "colab": {
     "base_uri": "https://localhost:8080/",
     "height": 206
    },
    "id": "wog-51Valecx",
    "outputId": "c9573aa0-f9f4-4182-c8ec-2e06ed7dd285"
   },
   "outputs": [],
   "source": [
    "# 將age的空值填入平均值\n",
    "df_sample = df.copy()\n",
    "df_sample['age'] = df_sample['age'].fillna(\n",
    "                    value=df_sample['age'].mean())\n",
    "df_sample.head()"
   ]
  },
  {
   "cell_type": "markdown",
   "metadata": {
    "id": "fDuprhVFmw6r"
   },
   "source": [
    "### 前值往下填或後值往前填"
   ]
  },
  {
   "cell_type": "code",
   "execution_count": null,
   "metadata": {
    "colab": {
     "base_uri": "https://localhost:8080/",
     "height": 206
    },
    "id": "VIxvb84WmxBp",
    "outputId": "23f61ced-5217-4624-aef9-ff4282ffdda3"
   },
   "outputs": [],
   "source": [
    "# 以前一個值往下填ffill或後一個值往上填bfill\n",
    "df_sample['gender'] = df_sample['gender'].fillna(method='ffill')\n",
    "df_sample['area'] = df_sample['area'].fillna(method='ffill')\n",
    "df_sample.head()"
   ]
  },
  {
   "cell_type": "markdown",
   "metadata": {
    "id": "FLLhu3Uhm9a5"
   },
   "source": [
    "### 刪除空值資料：dropna()"
   ]
  },
  {
   "cell_type": "code",
   "execution_count": null,
   "metadata": {
    "colab": {
     "base_uri": "https://localhost:8080/",
     "height": 269
    },
    "id": "zlvzJ7mem9jR",
    "outputId": "d3db3a31-244f-4b29-9697-79f4aec4c314"
   },
   "outputs": [],
   "source": [
    "# 刪除不完整的資料\n",
    "df.dropna()"
   ]
  },
  {
   "cell_type": "markdown",
   "metadata": {
    "id": "BNVuXNtmm9wh"
   },
   "source": [
    "## 去除重複資料"
   ]
  },
  {
   "cell_type": "code",
   "execution_count": null,
   "metadata": {
    "colab": {
     "base_uri": "https://localhost:8080/",
     "height": 206
    },
    "id": "Uf3aw8R5m93a",
    "outputId": "6556b7b4-32e5-46a7-dea7-bcb800b26379"
   },
   "outputs": [],
   "source": [
    "# 去除重複的記錄\n",
    "df_sample.drop_duplicates(subset='id', keep='first', inplace=True)\n",
    "df_sample.head()"
   ]
  },
  {
   "cell_type": "markdown",
   "metadata": {
    "id": "1eafKVcPnT5q"
   },
   "source": [
    "## 資料內容的置換"
   ]
  },
  {
   "cell_type": "code",
   "execution_count": null,
   "metadata": {
    "colab": {
     "base_uri": "https://localhost:8080/",
     "height": 206
    },
    "id": "3qi6aE0XnUB7",
    "outputId": "0ad6efb5-977e-45f8-f633-4fd5cdfa3739"
   },
   "outputs": [],
   "source": [
    "# 去除欄位中的空白\n",
    "df_sample['job'] = df_sample['job'].str.strip()\n",
    "df_sample['job'] = df_sample['job'].str.replace(' ', '')\n",
    "df_sample.head()"
   ]
  },
  {
   "cell_type": "markdown",
   "metadata": {
    "id": "FjbG0tUqndFx"
   },
   "source": [
    "## 調整資料的格式"
   ]
  },
  {
   "cell_type": "code",
   "execution_count": null,
   "metadata": {
    "colab": {
     "base_uri": "https://localhost:8080/",
     "height": 206
    },
    "id": "E9ppTFdBndOp",
    "outputId": "281d89c7-2ee4-4291-e41e-3fd432852deb"
   },
   "outputs": [],
   "source": [
    "# 轉換值的格式\n",
    "df_sample['age'] = df_sample['age'].astype('int32')\n",
    "df_sample.head()"
   ]
  },
  {
   "cell_type": "markdown",
   "metadata": {
    "id": "pLkb0gQd2b7x"
   },
   "source": [
    "# Pandas資料篩選、分組運算"
   ]
  },
  {
   "cell_type": "markdown",
   "metadata": {
    "id": "nnxMQ8Y82x9A"
   },
   "source": [
    "## Pandas資料篩選"
   ]
  },
  {
   "cell_type": "markdown",
   "metadata": {
    "id": "16SQS9F824Yw"
   },
   "source": [
    "### 設定欄位條件式"
   ]
  },
  {
   "cell_type": "code",
   "execution_count": null,
   "metadata": {
    "colab": {
     "base_uri": "https://localhost:8080/",
     "height": 143
    },
    "id": "3VTUhUbo2cGJ",
    "outputId": "118971ce-9c44-4170-ced2-e6aaeebda0f3"
   },
   "outputs": [],
   "source": [
    "# 篩選女性的資料\n",
    "df_sample[(df_sample['gender'] == 'Female')]"
   ]
  },
  {
   "cell_type": "markdown",
   "metadata": {
    "id": "-XMGi8RM2-OQ"
   },
   "source": [
    "### 設定多個條件式"
   ]
  },
  {
   "cell_type": "code",
   "execution_count": null,
   "metadata": {
    "colab": {
     "base_uri": "https://localhost:8080/"
    },
    "id": "EO7olxpg2-Ww",
    "outputId": "38a07afe-37bd-46f6-b22d-51ae83177a0e"
   },
   "outputs": [],
   "source": [
    "# 篩選男性且大於50歲的資料\n",
    "print(df_sample[(df_sample['gender'] == 'Male')\n",
    "\t\t& (df_sample['age'] > 50)])\n",
    "\n",
    "# 篩選住在新北市三重區或基隆市中正區的資料\n",
    "print(df_sample[(df_sample['area'] == '新北市三重區')\n",
    "\t\t| (df_sample['area'] == '基隆市中正區')])"
   ]
  },
  {
   "cell_type": "markdown",
   "metadata": {
    "id": "u-egMDhW3gQI"
   },
   "source": [
    "## Pandas資料分組運算"
   ]
  },
  {
   "cell_type": "markdown",
   "metadata": {
    "id": "Q5b5A-nO4NV3"
   },
   "source": [
    "### 分組運算：groupby()"
   ]
  },
  {
   "cell_type": "code",
   "execution_count": null,
   "metadata": {
    "colab": {
     "base_uri": "https://localhost:8080/"
    },
    "id": "_H5XSBlM3gY_",
    "outputId": "7941fa85-3345-44d0-ab6b-e172238411f6"
   },
   "outputs": [],
   "source": [
    "#客戶中男女生的平均年齡\n",
    "df_sample.groupby('gender')['age'].mean()"
   ]
  },
  {
   "cell_type": "code",
   "execution_count": null,
   "metadata": {
    "colab": {
     "base_uri": "https://localhost:8080/"
    },
    "id": "WSOMb5dZ3nXP",
    "outputId": "d9f78873-8f04-463f-b21e-6168d36d5484"
   },
   "outputs": [],
   "source": [
    "#客戶中住各區的人數\n",
    "df_sample.groupby('area')['id'].count()"
   ]
  },
  {
   "cell_type": "markdown",
   "metadata": {
    "id": "uTHvmkgF30rZ"
   },
   "source": [
    "### 彙總統計：agg()"
   ]
  },
  {
   "cell_type": "code",
   "execution_count": null,
   "metadata": {
    "colab": {
     "base_uri": "https://localhost:8080/",
     "height": 143
    },
    "id": "HFQsp8Ks30z3",
    "outputId": "f721e793-0dfd-4c6e-87eb-b763d30fe9b1"
   },
   "outputs": [],
   "source": [
    "#客戶中男女生的平均年齡、最年長及最年輕的年齡\n",
    "df_sample.groupby('gender')['age'].agg(['mean', 'max', 'min'])"
   ]
  }
 ],
 "metadata": {
  "colab": {
   "collapsed_sections": [],
   "name": "Pandas資料處理.ipynb",
   "provenance": []
  },
  "kernelspec": {
   "display_name": "Python 3 (ipykernel)",
   "language": "python",
   "name": "python3"
  },
  "language_info": {
   "codemirror_mode": {
    "name": "ipython",
    "version": 3
   },
   "file_extension": ".py",
   "mimetype": "text/x-python",
   "name": "python",
   "nbconvert_exporter": "python",
   "pygments_lexer": "ipython3",
   "version": "3.9.19"
  }
 },
 "nbformat": 4,
 "nbformat_minor": 1
}
